{
 "cells": [
  {
   "cell_type": "code",
   "execution_count": 1,
   "metadata": {},
   "outputs": [],
   "source": [
    "# Code Adapted from https://github.com/a-martyn/ISL-python\n",
    "# Comments by Soumitra Pandit\n",
    "\n",
    "import numpy as np\n",
    "import pandas as pd\n",
    "import matplotlib.pyplot as plt\n",
    "import seaborn as sns\n",
    "import statsmodels.api as sm\n",
    "import statsmodels.formula.api as smf\n",
    "import patsy\n",
    "import itertools\n",
    "from IPython.display import display, HTML\n",
    "from sklearn import linear_model\n",
    "from sklearn.model_selection import KFold\n",
    "from ipywidgets import interact\n",
    "import ipywidgets as widgets\n",
    "import warnings\n",
    "warnings.filterwarnings('ignore')\n",
    "\n",
    "from ipywidgets import interact\n",
    "import ipywidgets as widgets\n",
    "\n",
    "# Deps for pca/pcr\n",
    "from sklearn.preprocessing import scale\n",
    "from sklearn.decomposition import PCA\n",
    "from sklearn.model_selection import cross_val_score\n",
    "from sklearn.linear_model import LinearRegression\n",
    "from scipy import stats"
   ]
  },
  {
   "cell_type": "markdown",
   "metadata": {},
   "source": [
    "**Plan**\\\n",
    "The idea is to write a description of how I would execute the code. The descriptions won't match the actual code as I am not accounting for the use of any libraries and I am just trying to form a loose verbose solution. Most of the code here has been borrowed from an online repository as this exercise truly had a lot of foreign functions so I have tried to offset that by thinking through my solutions for problems.\n",
    "\n",
    "**a)**\\\n",
    "I doubt we have an r-norm function in Pyton. But I am pretty sure that some library does have that. So I'll use that here. The noise can be added using a similar random number generator within a certain range, I am sure. But I want to make sure the random numbers generated are truly random so maybe I will create a list, and then append that list in a loop where the loop calls in the random number generator. As the two calls to the random function are not within the same loop cycle, they will truly be random."
   ]
  },
  {
   "cell_type": "code",
   "execution_count": 2,
   "metadata": {},
   "outputs": [],
   "source": [
    "np.random.seed(1)\n",
    "x   = np.random.normal(0, 1, 100)\n",
    "eps = eps = np.random.normal(0 ,1 , 100)"
   ]
  },
  {
   "cell_type": "markdown",
   "metadata": {},
   "source": [
    "**b)**\n",
    "Okay, this is pretty starightforward. I can just create a list of Yi's where every Y is determined by the function acting on my list of Xi's and then adding the noise to it. lets see how that works."
   ]
  },
  {
   "cell_type": "code",
   "execution_count": 3,
   "metadata": {},
   "outputs": [],
   "source": [
    "y_np = 2 + 2*x + 3*(x**2) + 2.5*(x**3) + eps"
   ]
  },
  {
   "cell_type": "code",
   "execution_count": 4,
   "metadata": {},
   "outputs": [
    {
     "data": {
      "image/png": "[encoded data removed]",
      "text/plain": [
       "<Figure size 432x288 with 1 Axes>"
      ]
     },
     "metadata": {
      "needs_background": "light"
     },
     "output_type": "display_data"
    }
   ],
   "source": [
    "sns.scatterplot(x=x, y=y_np);"
   ]
  },
  {
   "cell_type": "markdown",
   "metadata": {},
   "source": [
    "**c)**\\\n",
    "This is where stuff gets interesting. I am absolutely sure that there must be some library for best subset selection but I am sure I can just make that function on my own. I am aware that it is going to have exponential time complexity but we are dealing with only 10 estimators so that shouldn't be too bad. I would absolutely refrain from using best subset selection with anything more than 30 predictors though.\n",
    "I am also supposed to plot the evidence and create a single data frame containing X and Y.\n",
    "Okay, lets see."
   ]
  },
  {
   "cell_type": "code",
   "execution_count": null,
   "metadata": {},
   "outputs": [],
   "source": [
    "# Pseudocode\n",
    "# for i goes from 1 to 10\n",
    "# from the set of possible predictors (X, X^2...X^10)\n",
    "# make combinations of i elements\n",
    "# find the R^2 statistic of the combinations\n",
    "# find the one with the highest R^2 and store that combination\n",
    "# Repeat it for all possible subsets\n",
    "# For j in the thus curated best sub - subset list\n",
    "# Find the one with the best \n",
    "# a) Cp \n",
    "# b) BIC\n",
    "# c) adjusted R^2\n",
    "# plot the graphs for the three models thus obtained\n",
    "# Save results in a dataframe"
   ]
  },
  {
   "cell_type": "code",
   "execution_count": 5,
   "metadata": {},
   "outputs": [
    {
     "name": "stdout",
     "output_type": "stream",
     "text": [
      "Progess: k = 1, done\n",
      "Progess: k = 2, done\n",
      "Progess: k = 3, done\n",
      "Progess: k = 4, done\n",
      "Progess: k = 5, done\n",
      "Progess: k = 6, done\n",
      "Progess: k = 7, done\n",
      "Progess: k = 8, done\n",
      "Progess: k = 9, done\n",
      "Progess: k = 10, done\n"
     ]
    }
   ],
   "source": [
    "def get_models(k, X, y):\n",
    "    \"\"\"\n",
    "    Fit all possible models that contain exactly k predictors.\n",
    "    \"\"\"\n",
    "    # List all available predictors\n",
    "    X_combos = itertools.combinations(list(X.columns), k)\n",
    "    \n",
    "    # Fit all models accumulating Residual Sum of Squares (RSS)\n",
    "    models = []\n",
    "    for X_label in X_combos:\n",
    "        # Parse patsy formula\n",
    "        X_smf = ' + '.join(X_label)\n",
    "        f     = '{} ~ {}'.format(y.columns[0], X_smf)\n",
    "        # Fit model\n",
    "        model = smf.ols(formula=f, data=pd.concat([X, y], axis=1)).fit()\n",
    "        # Return results\n",
    "        models += [(f, model)]\n",
    "    return models\n",
    "\n",
    "\n",
    "def min_rss(statsmodels):\n",
    "    \"\"\"Return model with lowest Residual Sum of Squares (RSS)\"\"\"\n",
    "    return sorted(statsmodels, key=lambda tup: tup[1].ssr)[0]\n",
    "\n",
    "\n",
    "def max_adjr2(statsmodels):\n",
    "    \"\"\"Return model with max R-squared\"\"\"\n",
    "    return sorted(statsmodels, reverse=True, key=lambda tup: tup[1].rsquared_adj)[0]\n",
    "\n",
    "def min_bic(statsmodels):\n",
    "    \"\"\"Return model with min Bayes' Information Criteria\"\"\"\n",
    "    return sorted(statsmodels, reverse=False, key=lambda tup: tup[1].bic)[0]\n",
    "\n",
    "def min_aic(statsmodels):\n",
    "    \"\"\"Return model with min Akaike's Information Criteria\"\"\"\n",
    "    return sorted(statsmodels, reverse=False, key=lambda tup: tup[1].aic)[0]\n",
    "X = pd.DataFrame({'X': x,\n",
    "                  'X2': x**2,\n",
    "                  'X3': x**3,\n",
    "                  'X4': x**4,\n",
    "                  'X5': x**5,\n",
    "                  'X6': x**6,\n",
    "                  'X7': x**7,\n",
    "                  'X8': x**8,\n",
    "                  'X9': x**9,\n",
    "                  'X10': x**10})\n",
    "y = pd.DataFrame({'y': y_np})\n",
    "\n",
    "# get all model results\n",
    "model_subsets = []\n",
    "for k in range(len(X.columns)):\n",
    "    k=k+1\n",
    "    subset = get_models(k, X, y)\n",
    "    model_subsets += [subset]\n",
    "    print('Progess: k = {}, done'.format(k))"
   ]
  },
  {
   "cell_type": "code",
   "execution_count": 6,
   "metadata": {},
   "outputs": [
    {
     "data": {
      "text/html": [
       "<h4>Adjusted R^2</h4>"
      ],
      "text/plain": [
       "<IPython.core.display.HTML object>"
      ]
     },
     "metadata": {},
     "output_type": "display_data"
    },
    {
     "data": {
      "image/png": "[encoded data removed]",
      "text/plain": [
       "<Figure size 432x288 with 1 Axes>"
      ]
     },
     "metadata": {
      "needs_background": "light"
     },
     "output_type": "display_data"
    },
    {
     "name": "stdout",
     "output_type": "stream",
     "text": [
      "Model selected: \n",
      "Intercept    2.298519\n",
      "X            2.659149\n",
      "X2           2.617578\n",
      "X5           2.279830\n",
      "X7          -0.684882\n",
      "X9           0.065720\n",
      "X10          0.001195\n",
      "dtype: float64\n"
     ]
    },
    {
     "data": {
      "text/html": [
       "<h4>Bayes' Information Criteria</h4>"
      ],
      "text/plain": [
       "<IPython.core.display.HTML object>"
      ]
     },
     "metadata": {},
     "output_type": "display_data"
    },
    {
     "data": {
      "image/png": "[encoded data removed]",
      "text/plain": [
       "<Figure size 432x288 with 1 Axes>"
      ]
     },
     "metadata": {
      "needs_background": "light"
     },
     "output_type": "display_data"
    },
    {
     "name": "stdout",
     "output_type": "stream",
     "text": [
      "Model selected: \n",
      "Intercept    2.276949\n",
      "X            1.910076\n",
      "X2           2.657467\n",
      "X3           2.605378\n",
      "X6           0.020949\n",
      "dtype: float64\n"
     ]
    },
    {
     "data": {
      "text/html": [
       "<h4>Akaike's Information Criteria</h4>"
      ],
      "text/plain": [
       "<IPython.core.display.HTML object>"
      ]
     },
     "metadata": {},
     "output_type": "display_data"
    },
    {
     "data": {
      "image/png": "[encoded data removed]",
      "text/plain": [
       "<Figure size 432x288 with 1 Axes>"
      ]
     },
     "metadata": {
      "needs_background": "light"
     },
     "output_type": "display_data"
    },
    {
     "name": "stdout",
     "output_type": "stream",
     "text": [
      "Model selected: \n",
      "Intercept    2.276949\n",
      "X            1.910076\n",
      "X2           2.657467\n",
      "X3           2.605378\n",
      "X6           0.020949\n",
      "dtype: float64\n"
     ]
    }
   ],
   "source": [
    "# Get predictor count\n",
    "k = np.arange(1, len(X.columns)+1)\n",
    "\n",
    "# adjr2\n",
    "# ------------------------------------------------\n",
    "display(HTML('<h4>Adjusted R^2</h4>'))\n",
    "\n",
    "# Plot best r-squared score for each subset\n",
    "adjr2 = [max_adjr2(m)[1].rsquared_adj for m in model_subsets]\n",
    "\n",
    "sns.lineplot(x=k, y=adjr2)\n",
    "plt.xlabel('k')\n",
    "plt.ylabel('$R^2$')\n",
    "plt.show()\n",
    "\n",
    "# Select best subset\n",
    "coefs_r2 = [(max_adjr2(m)[1].rsquared_adj, max_adjr2(m)[1].params) for m in model_subsets]\n",
    "print('Model selected: \\n{}'.format(max(coefs_r2)[1]))\n",
    "\n",
    "\n",
    "# Bayes' Information Criteria (BIC)\n",
    "# ------------------------------------------------\n",
    "display(HTML('<h4>Bayes\\' Information Criteria</h4>'))\n",
    "\n",
    "# Get best BIC\n",
    "bic = [min_bic(m)[1].bic for m in model_subsets]\n",
    "\n",
    "sns.lineplot(x=k, y=bic)\n",
    "plt.xlabel('k')\n",
    "plt.ylabel('BIC')\n",
    "plt.show()\n",
    "\n",
    "# Select best subset\n",
    "coefs_bic = [(min_bic(m)[1].bic, min_bic(m)[1].params) for m in model_subsets]\n",
    "print('Model selected: \\n{}'.format(min(coefs_bic)[1]))\n",
    "\n",
    "\n",
    "# Akaike's Information Criteria (AIC/ C_p)\n",
    "# ------------------------------------------------\n",
    "display(HTML('<h4>Akaike\\'s Information Criteria</h4>'))\n",
    "\n",
    "# Get best AIC\n",
    "aic = [min_aic(m)[1].aic for m in model_subsets]\n",
    "\n",
    "sns.lineplot(x=k, y=aic)\n",
    "plt.xlabel('k')\n",
    "plt.ylabel('AIC')\n",
    "plt.show()\n",
    "\n",
    "# Select best subset\n",
    "coefs_aic = [(min_aic(m)[1].aic, min_aic(m)[1].params) for m in model_subsets]\n",
    "print('Model selected: \\n{}'.format(min(coefs_aic)[1]))"
   ]
  },
  {
   "cell_type": "markdown",
   "metadata": {},
   "source": [
    "**d)**\\\n",
    "Forward stepwise and backward stepwise. Hmm, not as complicated as Best subset. However I do need to create an ordered list of Predictors based on their significance measured by their P value. Then I can just compose the forward step wise and back ward stepwise solution. Lets see."
   ]
  },
  {
   "cell_type": "code",
   "execution_count": 7,
   "metadata": {},
   "outputs": [
    {
     "data": {
      "text/html": [
       "<h4>Adjusted R^2</h4>"
      ],
      "text/plain": [
       "<IPython.core.display.HTML object>"
      ]
     },
     "metadata": {},
     "output_type": "display_data"
    },
    {
     "data": {
      "image/png": "[encoded data removed]",
      "text/plain": [
       "<Figure size 432x288 with 1 Axes>"
      ]
     },
     "metadata": {
      "needs_background": "light"
     },
     "output_type": "display_data"
    },
    {
     "data": {
      "text/html": [
       "<div>\n",
       "<style scoped>\n",
       "    .dataframe tbody tr th:only-of-type {\n",
       "        vertical-align: middle;\n",
       "    }\n",
       "\n",
       "    .dataframe tbody tr th {\n",
       "        vertical-align: top;\n",
       "    }\n",
       "\n",
       "    .dataframe thead th {\n",
       "        text-align: right;\n",
       "    }\n",
       "</style>\n",
       "<table border=\"1\" class=\"dataframe\">\n",
       "  <thead>\n",
       "    <tr style=\"text-align: right;\">\n",
       "      <th></th>\n",
       "      <th>rsquared_adj</th>\n",
       "      <th>predictors</th>\n",
       "    </tr>\n",
       "  </thead>\n",
       "  <tbody>\n",
       "    <tr>\n",
       "      <th>4</th>\n",
       "      <td>0.989408</td>\n",
       "      <td>[X6, X, X2, X3]</td>\n",
       "    </tr>\n",
       "  </tbody>\n",
       "</table>\n",
       "</div>"
      ],
      "text/plain": [
       "   rsquared_adj       predictors\n",
       "4      0.989408  [X6, X, X2, X3]"
      ]
     },
     "metadata": {},
     "output_type": "display_data"
    },
    {
     "data": {
      "text/html": [
       "<h4>Bayes' Information Criteria</h4>"
      ],
      "text/plain": [
       "<IPython.core.display.HTML object>"
      ]
     },
     "metadata": {},
     "output_type": "display_data"
    },
    {
     "data": {
      "image/png": "[encoded data removed]",
      "text/plain": [
       "<Figure size 432x288 with 1 Axes>"
      ]
     },
     "metadata": {
      "needs_background": "light"
     },
     "output_type": "display_data"
    },
    {
     "data": {
      "text/html": [
       "<div>\n",
       "<style scoped>\n",
       "    .dataframe tbody tr th:only-of-type {\n",
       "        vertical-align: middle;\n",
       "    }\n",
       "\n",
       "    .dataframe tbody tr th {\n",
       "        vertical-align: top;\n",
       "    }\n",
       "\n",
       "    .dataframe thead th {\n",
       "        text-align: right;\n",
       "    }\n",
       "</style>\n",
       "<table border=\"1\" class=\"dataframe\">\n",
       "  <thead>\n",
       "    <tr style=\"text-align: right;\">\n",
       "      <th></th>\n",
       "      <th>bic</th>\n",
       "      <th>predictors</th>\n",
       "    </tr>\n",
       "  </thead>\n",
       "  <tbody>\n",
       "    <tr>\n",
       "      <th>4</th>\n",
       "      <td>284.249198</td>\n",
       "      <td>[X6, X, X2, X3]</td>\n",
       "    </tr>\n",
       "  </tbody>\n",
       "</table>\n",
       "</div>"
      ],
      "text/plain": [
       "          bic       predictors\n",
       "4  284.249198  [X6, X, X2, X3]"
      ]
     },
     "metadata": {},
     "output_type": "display_data"
    },
    {
     "data": {
      "text/html": [
       "<h4>Akaike's Information Criteria</h4>"
      ],
      "text/plain": [
       "<IPython.core.display.HTML object>"
      ]
     },
     "metadata": {},
     "output_type": "display_data"
    },
    {
     "data": {
      "image/png": "[encoded data removed]",
      "text/plain": [
       "<Figure size 432x288 with 1 Axes>"
      ]
     },
     "metadata": {
      "needs_background": "light"
     },
     "output_type": "display_data"
    },
    {
     "data": {
      "text/html": [
       "<div>\n",
       "<style scoped>\n",
       "    .dataframe tbody tr th:only-of-type {\n",
       "        vertical-align: middle;\n",
       "    }\n",
       "\n",
       "    .dataframe tbody tr th {\n",
       "        vertical-align: top;\n",
       "    }\n",
       "\n",
       "    .dataframe thead th {\n",
       "        text-align: right;\n",
       "    }\n",
       "</style>\n",
       "<table border=\"1\" class=\"dataframe\">\n",
       "  <thead>\n",
       "    <tr style=\"text-align: right;\">\n",
       "      <th></th>\n",
       "      <th>aic</th>\n",
       "      <th>predictors</th>\n",
       "    </tr>\n",
       "  </thead>\n",
       "  <tbody>\n",
       "    <tr>\n",
       "      <th>4</th>\n",
       "      <td>271.223347</td>\n",
       "      <td>[X6, X, X2, X3]</td>\n",
       "    </tr>\n",
       "  </tbody>\n",
       "</table>\n",
       "</div>"
      ],
      "text/plain": [
       "          aic       predictors\n",
       "4  271.223347  [X6, X, X2, X3]"
      ]
     },
     "metadata": {},
     "output_type": "display_data"
    }
   ],
   "source": [
    "def forward_stepwise(X, y, scorer='ssr', results=[(0, [])]):\n",
    "    \"\"\"Perform forward stepwise variable selection as described in\n",
    "    An Introductions to Statistical Learning (p.207)\n",
    "    Returns pandas dataframe object  with results for each step\"\"\"\n",
    "    # List predictors that havent's been used so far\n",
    "    p_all    = list(X.columns)\n",
    "    p_used   = results[-1][1]\n",
    "    p_unused = [p for p in p_all if p not in p_used]\n",
    "    \n",
    "    # Job done, exit recursion\n",
    "    if not p_unused:\n",
    "        scores = [r[0] for r in results]\n",
    "        preds  = [r[1] for r in results]\n",
    "        return pd.DataFrame({scorer: scores, 'predictors': preds}).drop(0)\n",
    "    \n",
    "    # Get score for each possible additional predictor\n",
    "    r = []\n",
    "    for p in p_unused:\n",
    "        f     = '{} ~ {}'.format(y.columns[0], '+'.join([p]+p_used))\n",
    "        # Fit model\n",
    "        model = smf.ols(formula=f, data=pd.concat([X, y], axis=1)).fit()\n",
    "        r    += [(model, [p]+p_used)]\n",
    "    \n",
    "    # Choose predictor which yields best score\n",
    "    if scorer == 'ssr':\n",
    "        best_model = sorted(r, key=lambda tup: tup[0].ssr)[0]\n",
    "        best_score = (best_model[0].ssr, best_model[1])\n",
    "    elif scorer == 'rsquared_adj':\n",
    "        best_model = sorted(r, key=lambda tup: tup[0].rsquared_adj)[-1]\n",
    "        best_score = (best_model[0].rsquared_adj, best_model[1])        \n",
    "    elif scorer == 'bic':\n",
    "        best_model = sorted(r, key=lambda tup: tup[0].bic)[0]\n",
    "        best_score = (best_model[0].bic, best_model[1]) \n",
    "    elif scorer == 'aic':\n",
    "        best_model = sorted(r, key=lambda tup: tup[0].aic)[0]\n",
    "        best_score = (best_model[0].aic, best_model[1]) \n",
    "                        \n",
    "    new_results = results + [best_score]\n",
    "    # Recursive call to self\n",
    "    return forward_stepwise(X, y, scorer, new_results)\n",
    "def backward_stepwise(X, y, scorer='ssr', results=[]):\n",
    "    \"\"\"Perform backward stepwise variable selection as described in\n",
    "    An Introductions to Statistical Learning (p.209)\n",
    "    Returns pandas dataframe object  with results for each step\"\"\"\n",
    "    # List predictors that havent's been used so far\n",
    "    p_all = list(X.columns)\n",
    "\n",
    "    # Check if we're starting out here\n",
    "    if not results:\n",
    "        # Fit model with all features\n",
    "        f     = '{} ~ {}'.format(y.columns[0], '+'.join(p_all))\n",
    "        model = smf.ols(formula=f, data=pd.concat([X, y], axis=1)).fit()\n",
    "        # Begin backward stepwise recursion\n",
    "        if scorer == 'ssr':\n",
    "            return backward_stepwise(X, y, scorer, [(model.ssr, p_all)])\n",
    "        if scorer == 'rsquared_adj':\n",
    "            return backward_stepwise(X, y, scorer, [(model.rsquared_adj, p_all)])\n",
    "        if scorer == 'bic':\n",
    "            return backward_stepwise(X, y, scorer, [(model.bic, p_all)])\n",
    "        if scorer == 'aic':\n",
    "            return backward_stepwise(X, y, scorer, [(model.aic, p_all)])\n",
    "    else:\n",
    "        p_used = results[-1][1]\n",
    "    \n",
    "    # Job done, exit recursion\n",
    "    if len(p_used) == 1:\n",
    "        scores = [r[0] for r in results]\n",
    "        preds  = [r[1] for r in results]\n",
    "        return pd.DataFrame({scorer: scores, 'predictors': preds})    \n",
    "    \n",
    "    # Get rss score for each possible removed predictor\n",
    "    r = []\n",
    "    for p in p_used:\n",
    "        p_test = [i for i in p_used if i != p]\n",
    "        f     = '{} ~ {}'.format(y.columns[0], '+'.join(p_test))\n",
    "        # Fit model\n",
    "        model = smf.ols(formula=f, data=pd.concat([X, y], axis=1)).fit()\n",
    "        r     += [(model, p_test)]\n",
    "    \n",
    "    # Choose removal of predictor which yields best score\n",
    "    if scorer == 'ssr':\n",
    "        best_model = sorted(r, key=lambda tup: tup[0].ssr)[0]\n",
    "        best_score = (best_model[0].ssr, best_model[1])\n",
    "    elif scorer == 'rsquared_adj':\n",
    "        best_model = sorted(r, key=lambda tup: tup[0].rsquared_adj)[-1]\n",
    "        best_score = (best_model[0].rsquared_adj, best_model[1])        \n",
    "    elif scorer == 'bic':\n",
    "        best_model = sorted(r, key=lambda tup: tup[0].bic)[0]\n",
    "        best_score = (best_model[0].bic, best_model[1]) \n",
    "    elif scorer == 'aic':\n",
    "        best_model = sorted(r, key=lambda tup: tup[0].aic)[0]\n",
    "        best_score = (best_model[0].aic, best_model[1]) \n",
    "\n",
    "    new_results = results + [best_score]\n",
    "    # Recursive call to self\n",
    "    return backward_stepwise(X, y, scorer, new_results)\n",
    "\n",
    "\n",
    "def subset_analysis(df, scorer):\n",
    "    \"\"\"Renders results from forward_stepwise() and backward_stepwise()\"\"\"\n",
    "    df['predictors_str'] = df['predictors'].astype(str)\n",
    "    \n",
    "    ax = sns.lineplot(x='predictors_str', y=scorer, data=df, sort=False)\n",
    "    plt.xticks(rotation=90)\n",
    "    plt.show();\n",
    "    \n",
    "    if scorer == 'rsquared_adj':\n",
    "        display(df[df[scorer] ==  df[scorer].max()].drop('predictors_str', axis=1))\n",
    "    else:\n",
    "        display(df[df[scorer] ==  df[scorer].min()].drop('predictors_str', axis=1))\n",
    "\n",
    "#Forward Stepwise Selection\n",
    "# adjr2\n",
    "# ------------------------------------------------\n",
    "display(HTML('<h4>Adjusted R^2</h4>'))\n",
    "scorer = 'rsquared_adj'\n",
    "subset_analysis(forward_stepwise(X, y, scorer=scorer), scorer)\n",
    "\n",
    "# Bayes' Information Criteria (BIC)\n",
    "# ------------------------------------------------\n",
    "display(HTML('<h4>Bayes\\' Information Criteria</h4>'))\n",
    "scorer = 'bic'\n",
    "subset_analysis(forward_stepwise(X, y, scorer=scorer), scorer)\n",
    "\n",
    "# Akaike's Information Criteria (AIC/ C_p)\n",
    "# ------------------------------------------------\n",
    "display(HTML('<h4>Akaike\\'s Information Criteria</h4>'))\n",
    "scorer = 'aic'\n",
    "subset_analysis(forward_stepwise(X, y, scorer=scorer), scorer)\n",
    "\n",
    "#\n",
    "# C:\\Users\\smtrp\\OneDrive\\Desktop\\DS502\\ISLR\\HW_3\\Ch6_P8_complete.ipynb\n",
    "# C:\\Users\\smtrp\\OneDrive\\Desktop\\DS502\\ISLR\\HW_3\\Ch6_P8_complete.ipynb\n",
    "# https://github.com/ACZD254/ISLR/blob/main/HW_3/Ch6_P8_complete.ipynb#L131"
   ]
  },
  {
   "cell_type": "code",
   "execution_count": 8,
   "metadata": {},
   "outputs": [
    {
     "data": {
      "text/html": [
       "<h4>Adjusted R^2</h4>"
      ],
      "text/plain": [
       "<IPython.core.display.HTML object>"
      ]
     },
     "metadata": {},
     "output_type": "display_data"
    },
    {
     "data": {
      "image/png": "[encoded data removed]",
      "text/plain": [
       "<Figure size 432x288 with 1 Axes>"
      ]
     },
     "metadata": {
      "needs_background": "light"
     },
     "output_type": "display_data"
    },
    {
     "data": {
      "text/html": [
       "<div>\n",
       "<style scoped>\n",
       "    .dataframe tbody tr th:only-of-type {\n",
       "        vertical-align: middle;\n",
       "    }\n",
       "\n",
       "    .dataframe tbody tr th {\n",
       "        vertical-align: top;\n",
       "    }\n",
       "\n",
       "    .dataframe thead th {\n",
       "        text-align: right;\n",
       "    }\n",
       "</style>\n",
       "<table border=\"1\" class=\"dataframe\">\n",
       "  <thead>\n",
       "    <tr style=\"text-align: right;\">\n",
       "      <th></th>\n",
       "      <th>rsquared_adj</th>\n",
       "      <th>predictors</th>\n",
       "    </tr>\n",
       "  </thead>\n",
       "  <tbody>\n",
       "    <tr>\n",
       "      <th>3</th>\n",
       "      <td>0.989431</td>\n",
       "      <td>[X, X2, X4, X5, X6, X7, X9]</td>\n",
       "    </tr>\n",
       "  </tbody>\n",
       "</table>\n",
       "</div>"
      ],
      "text/plain": [
       "   rsquared_adj                   predictors\n",
       "3      0.989431  [X, X2, X4, X5, X6, X7, X9]"
      ]
     },
     "metadata": {},
     "output_type": "display_data"
    },
    {
     "data": {
      "text/html": [
       "<h4>Bayes' Information Criteria</h4>"
      ],
      "text/plain": [
       "<IPython.core.display.HTML object>"
      ]
     },
     "metadata": {},
     "output_type": "display_data"
    },
    {
     "data": {
      "image/png": "[encoded data removed]",
      "text/plain": [
       "<Figure size 432x288 with 1 Axes>"
      ]
     },
     "metadata": {
      "needs_background": "light"
     },
     "output_type": "display_data"
    },
    {
     "data": {
      "text/html": [
       "<div>\n",
       "<style scoped>\n",
       "    .dataframe tbody tr th:only-of-type {\n",
       "        vertical-align: middle;\n",
       "    }\n",
       "\n",
       "    .dataframe tbody tr th {\n",
       "        vertical-align: top;\n",
       "    }\n",
       "\n",
       "    .dataframe thead th {\n",
       "        text-align: right;\n",
       "    }\n",
       "</style>\n",
       "<table border=\"1\" class=\"dataframe\">\n",
       "  <thead>\n",
       "    <tr style=\"text-align: right;\">\n",
       "      <th></th>\n",
       "      <th>bic</th>\n",
       "      <th>predictors</th>\n",
       "    </tr>\n",
       "  </thead>\n",
       "  <tbody>\n",
       "    <tr>\n",
       "      <th>4</th>\n",
       "      <td>291.450514</td>\n",
       "      <td>[X, X2, X5, X6, X7, X9]</td>\n",
       "    </tr>\n",
       "  </tbody>\n",
       "</table>\n",
       "</div>"
      ],
      "text/plain": [
       "          bic               predictors\n",
       "4  291.450514  [X, X2, X5, X6, X7, X9]"
      ]
     },
     "metadata": {},
     "output_type": "display_data"
    },
    {
     "data": {
      "text/html": [
       "<h4>Akaike's Information Criteria</h4>"
      ],
      "text/plain": [
       "<IPython.core.display.HTML object>"
      ]
     },
     "metadata": {},
     "output_type": "display_data"
    },
    {
     "data": {
      "image/png": "[encoded data removed]",
      "text/plain": [
       "<Figure size 432x288 with 1 Axes>"
      ]
     },
     "metadata": {
      "needs_background": "light"
     },
     "output_type": "display_data"
    },
    {
     "data": {
      "text/html": [
       "<div>\n",
       "<style scoped>\n",
       "    .dataframe tbody tr th:only-of-type {\n",
       "        vertical-align: middle;\n",
       "    }\n",
       "\n",
       "    .dataframe tbody tr th {\n",
       "        vertical-align: top;\n",
       "    }\n",
       "\n",
       "    .dataframe thead th {\n",
       "        text-align: right;\n",
       "    }\n",
       "</style>\n",
       "<table border=\"1\" class=\"dataframe\">\n",
       "  <thead>\n",
       "    <tr style=\"text-align: right;\">\n",
       "      <th></th>\n",
       "      <th>aic</th>\n",
       "      <th>predictors</th>\n",
       "    </tr>\n",
       "  </thead>\n",
       "  <tbody>\n",
       "    <tr>\n",
       "      <th>4</th>\n",
       "      <td>273.214322</td>\n",
       "      <td>[X, X2, X5, X6, X7, X9]</td>\n",
       "    </tr>\n",
       "  </tbody>\n",
       "</table>\n",
       "</div>"
      ],
      "text/plain": [
       "          aic               predictors\n",
       "4  273.214322  [X, X2, X5, X6, X7, X9]"
      ]
     },
     "metadata": {},
     "output_type": "display_data"
    }
   ],
   "source": [
    "#Backward Stepwise Selection\n",
    "# adjr2\n",
    "# ------------------------------------------------\n",
    "display(HTML('<h4>Adjusted R^2</h4>'))\n",
    "scorer = 'rsquared_adj'\n",
    "subset_analysis(backward_stepwise(X, y, scorer=scorer), scorer)\n",
    "\n",
    "# Bayes' Information Criteria (BIC)\n",
    "# ------------------------------------------------\n",
    "display(HTML('<h4>Bayes\\' Information Criteria</h4>'))\n",
    "scorer = 'bic'\n",
    "subset_analysis(backward_stepwise(X, y, scorer=scorer), scorer)\n",
    "\n",
    "# Akaike's Information Criteria (AIC/ C_p)\n",
    "# ------------------------------------------------\n",
    "display(HTML('<h4>Akaike\\'s Information Criteria</h4>'))\n",
    "scorer = 'aic'\n",
    "subset_analysis(backward_stepwise(X, y, scorer=scorer), scorer)"
   ]
  },
  {
   "cell_type": "markdown",
   "metadata": {},
   "source": [
    "**Comment on findings**\\\n",
    "I prefer Forward simoply because its giving me less dimensionality to deal with in its best solutions for each category. \n",
    "However, quite interstingly, it all does chose the same model for all the categories. Which might be a very strong indicator that they are the right variables to choose or in the darker possibility - a bug. \n",
    "Bacward gives more diverse answers but I don't really like that fact that its always using >4 parameters for each category."
   ]
  },
  {
   "cell_type": "markdown",
   "metadata": {},
   "source": [
    "**e)**\\\n",
    "Fitting Lasso should reduce the dimentionality. Let's test that theory.\n"
   ]
  },
  {
   "cell_type": "code",
   "execution_count": 31,
   "metadata": {},
   "outputs": [],
   "source": [
    "def lasso_cv(X, y, λ, k):\n",
    "    \"\"\"Perform the lasso with \n",
    "    k-fold cross validation to return mean MSE scores for each fold\"\"\"\n",
    "    # Split dataset into k-folds\n",
    "    # Note: np.array_split doesn't raise excpetion is folds are unequal in size\n",
    "    X_folds = np.array_split(X, k)\n",
    "    y_folds = np.array_split(y, k)\n",
    "    \n",
    "    MSEs = []\n",
    "    for f in np.arange(len(X_folds)):\n",
    "        # Create training and test sets\n",
    "        X_test  = X_folds[f]\n",
    "        y_test  = y_folds[f]\n",
    "        X_train = X.drop(X_folds[f].index)\n",
    "        y_train = y.drop(y_folds[f].index)\n",
    "        \n",
    "        # Fit model\n",
    "        model = linear_model.Lasso(alpha=λ, fit_intercept=True, normalize=False, max_iter=1000000).fit(X_train, y_train)\n",
    "\n",
    "        # Measure MSE\n",
    "        y_hat = model.predict(X_test)\n",
    "        MSEs += [mse(y_hat, y_test['y'])]\n",
    "    return MSEs"
   ]
  },
  {
   "cell_type": "code",
   "execution_count": 12,
   "metadata": {},
   "outputs": [
    {
     "data": {
      "image/png": "[encoded data removed]",
      "text/plain": [
       "<Figure size 432x288 with 1 Axes>"
      ]
     },
     "metadata": {
      "needs_background": "light"
     },
     "output_type": "display_data"
    }
   ],
   "source": [
    "lambdas = np.arange(0.01, 1, 0.01)\n",
    "MSEs    = [] \n",
    "for l in lambdas:\n",
    "    MSEs += [np.mean(lasso_cv(X, y, λ=l, k=10))]\n",
    "\n",
    "sns.scatterplot(x='λ', y='MSE', data=pd.DataFrame({'λ': lambdas, 'MSE': MSEs}));"
   ]
  },
  {
   "cell_type": "markdown",
   "metadata": {},
   "source": [
    "**Comment on the plot**\\\n",
    "Beautiful Lasso plot. WE can see that the grap is closest to zero around 0.2 so that's where I expect to find our lambda value to fall. "
   ]
  },
  {
   "cell_type": "code",
   "execution_count": 13,
   "metadata": {},
   "outputs": [
    {
     "data": {
      "text/plain": [
       "(1.8145436278959726, 0.19)"
      ]
     },
     "execution_count": 13,
     "metadata": {},
     "output_type": "execute_result"
    }
   ],
   "source": [
    "min(zip(MSEs, lambdas))"
   ]
  },
  {
   "cell_type": "code",
   "execution_count": 14,
   "metadata": {},
   "outputs": [
    {
     "data": {
      "image/png": "[encoded data removed]",
      "text/plain": [
       "<Figure size 432x288 with 1 Axes>"
      ]
     },
     "metadata": {
      "needs_background": "light"
     },
     "output_type": "display_data"
    },
    {
     "data": {
      "text/html": [
       "<div>\n",
       "<style scoped>\n",
       "    .dataframe tbody tr th:only-of-type {\n",
       "        vertical-align: middle;\n",
       "    }\n",
       "\n",
       "    .dataframe tbody tr th {\n",
       "        vertical-align: top;\n",
       "    }\n",
       "\n",
       "    .dataframe thead th {\n",
       "        text-align: right;\n",
       "    }\n",
       "</style>\n",
       "<table border=\"1\" class=\"dataframe\">\n",
       "  <thead>\n",
       "    <tr style=\"text-align: right;\">\n",
       "      <th></th>\n",
       "      <th>feature</th>\n",
       "      <th>coefficient</th>\n",
       "    </tr>\n",
       "  </thead>\n",
       "  <tbody>\n",
       "    <tr>\n",
       "      <th>0</th>\n",
       "      <td>X</td>\n",
       "      <td>1.823572</td>\n",
       "    </tr>\n",
       "    <tr>\n",
       "      <th>1</th>\n",
       "      <td>X2</td>\n",
       "      <td>0.454881</td>\n",
       "    </tr>\n",
       "    <tr>\n",
       "      <th>2</th>\n",
       "      <td>X3</td>\n",
       "      <td>1.802128</td>\n",
       "    </tr>\n",
       "    <tr>\n",
       "      <th>3</th>\n",
       "      <td>X4</td>\n",
       "      <td>0.847043</td>\n",
       "    </tr>\n",
       "    <tr>\n",
       "      <th>4</th>\n",
       "      <td>X5</td>\n",
       "      <td>0.373082</td>\n",
       "    </tr>\n",
       "    <tr>\n",
       "      <th>5</th>\n",
       "      <td>X6</td>\n",
       "      <td>0.000000</td>\n",
       "    </tr>\n",
       "    <tr>\n",
       "      <th>6</th>\n",
       "      <td>X7</td>\n",
       "      <td>0.000000</td>\n",
       "    </tr>\n",
       "    <tr>\n",
       "      <th>7</th>\n",
       "      <td>X8</td>\n",
       "      <td>-0.000000</td>\n",
       "    </tr>\n",
       "    <tr>\n",
       "      <th>8</th>\n",
       "      <td>X9</td>\n",
       "      <td>-0.009186</td>\n",
       "    </tr>\n",
       "    <tr>\n",
       "      <th>9</th>\n",
       "      <td>X10</td>\n",
       "      <td>-0.002988</td>\n",
       "    </tr>\n",
       "  </tbody>\n",
       "</table>\n",
       "</div>"
      ],
      "text/plain": [
       "  feature  coefficient\n",
       "0       X     1.823572\n",
       "1      X2     0.454881\n",
       "2      X3     1.802128\n",
       "3      X4     0.847043\n",
       "4      X5     0.373082\n",
       "5      X6     0.000000\n",
       "6      X7     0.000000\n",
       "7      X8    -0.000000\n",
       "8      X9    -0.009186\n",
       "9     X10    -0.002988"
      ]
     },
     "metadata": {},
     "output_type": "display_data"
    }
   ],
   "source": [
    "lamb = min(zip(MSEs, lambdas))[1]\n",
    "model = linear_model.Lasso(alpha=lamb, fit_intercept=True, normalize=False, max_iter=1000000).fit(X, y)\n",
    "df = pd.DataFrame({'feature': X.columns, 'coefficient': model.coef_})\n",
    "# plot\n",
    "ax = sns.barplot(x='coefficient', y='feature', data=df);\n",
    "plt.xticks(rotation=90)\n",
    "plt.show();\n",
    "display(df)"
   ]
  },
  {
   "cell_type": "markdown",
   "metadata": {},
   "source": [
    "**Comment on findings**\\\n",
    "As expected, X6, X7 and X 8 have been driven to zero while X9 and X10 have been heavily minimised. Cool."
   ]
  },
  {
   "cell_type": "code",
   "execution_count": 35,
   "metadata": {},
   "outputs": [],
   "source": [
    "def mse(y_hat, y):\n",
    "    \"\"\"Calculate Mean Squared Error\"\"\"\n",
    "    return np.sum(np.square(y_hat - y)) / y.size\n",
    "def lasso_cv(X, y, λ, k):\n",
    "    \"\"\"Perform the lasso with \n",
    "    k-fold cross validation to return mean MSE scores for each fold\"\"\"\n",
    "    # Split dataset into k-folds\n",
    "    # Note: np.array_split doesn't raise excpetion is folds are unequal in size\n",
    "    X_folds = np.array_split(X, k)\n",
    "    y_folds = np.array_split(y, k)\n",
    "    \n",
    "    MSEs = []\n",
    "    for f in np.arange(len(X_folds)):\n",
    "        # Create training and test sets\n",
    "        X_test  = X_folds[f]\n",
    "        y_test  = y_folds[f]\n",
    "        X_train = X.drop(X_folds[f].index)\n",
    "        y_train = y.drop(y_folds[f].index)\n",
    "        \n",
    "        # Fit model\n",
    "        model = linear_model.Lasso(alpha=λ, fit_intercept=True, normalize=True, max_iter=1000000).fit(X_train, y_train)\n",
    "\n",
    "        # Measure MSE\n",
    "        y_hat = model.predict(X_test)\n",
    "        MSEs += [mse(y_hat, y_test['y'])]\n",
    "    return MSEs\n",
    "\n"
   ]
  },
  {
   "cell_type": "code",
   "execution_count": 36,
   "metadata": {},
   "outputs": [
    {
     "ename": "KeyboardInterrupt",
     "evalue": "",
     "output_type": "error",
     "traceback": [
      "\u001b[1;31m---------------------------------------------------------------------------\u001b[0m",
      "\u001b[1;31mKeyboardInterrupt\u001b[0m                         Traceback (most recent call last)",
      "\u001b[1;32mc:\\Users\\smtrp\\OneDrive\\Desktop\\DS502\\ISLR\\HW_3\\Ch6_P8_complete.ipynb Cell 23\u001b[0m in \u001b[0;36m<cell line: 3>\u001b[1;34m()\u001b[0m\n\u001b[0;32m      <a href='vscode-notebook-cell:/c%3A/Users/smtrp/OneDrive/Desktop/DS502/ISLR/HW_3/Ch6_P8_complete.ipynb#Y100sZmlsZQ%3D%3D?line=1'>2</a>\u001b[0m MSEs    \u001b[39m=\u001b[39m [] \n\u001b[0;32m      <a href='vscode-notebook-cell:/c%3A/Users/smtrp/OneDrive/Desktop/DS502/ISLR/HW_3/Ch6_P8_complete.ipynb#Y100sZmlsZQ%3D%3D?line=2'>3</a>\u001b[0m \u001b[39mfor\u001b[39;00m l \u001b[39min\u001b[39;00m lambdas:\n\u001b[1;32m----> <a href='vscode-notebook-cell:/c%3A/Users/smtrp/OneDrive/Desktop/DS502/ISLR/HW_3/Ch6_P8_complete.ipynb#Y100sZmlsZQ%3D%3D?line=3'>4</a>\u001b[0m     MSEs \u001b[39m+\u001b[39m\u001b[39m=\u001b[39m [np\u001b[39m.\u001b[39mmean(lasso_cv(X, y, λ\u001b[39m=\u001b[39;49ml, k\u001b[39m=\u001b[39;49m\u001b[39m10\u001b[39;49m))]\n\u001b[0;32m      <a href='vscode-notebook-cell:/c%3A/Users/smtrp/OneDrive/Desktop/DS502/ISLR/HW_3/Ch6_P8_complete.ipynb#Y100sZmlsZQ%3D%3D?line=5'>6</a>\u001b[0m sns\u001b[39m.\u001b[39mscatterplot(x\u001b[39m=\u001b[39m\u001b[39m'\u001b[39m\u001b[39mλ\u001b[39m\u001b[39m'\u001b[39m, y\u001b[39m=\u001b[39m\u001b[39m'\u001b[39m\u001b[39mMSE\u001b[39m\u001b[39m'\u001b[39m, data\u001b[39m=\u001b[39mpd\u001b[39m.\u001b[39mDataFrame({\u001b[39m'\u001b[39m\u001b[39mλ\u001b[39m\u001b[39m'\u001b[39m: lambdas, \u001b[39m'\u001b[39m\u001b[39mMSE\u001b[39m\u001b[39m'\u001b[39m: MSEs}))\n",
      "\u001b[1;32mc:\\Users\\smtrp\\OneDrive\\Desktop\\DS502\\ISLR\\HW_3\\Ch6_P8_complete.ipynb Cell 23\u001b[0m in \u001b[0;36mlasso_cv\u001b[1;34m(X, y, λ, k)\u001b[0m\n\u001b[0;32m     <a href='vscode-notebook-cell:/c%3A/Users/smtrp/OneDrive/Desktop/DS502/ISLR/HW_3/Ch6_P8_complete.ipynb#Y100sZmlsZQ%3D%3D?line=17'>18</a>\u001b[0m y_train \u001b[39m=\u001b[39m y\u001b[39m.\u001b[39mdrop(y_folds[f]\u001b[39m.\u001b[39mindex)\n\u001b[0;32m     <a href='vscode-notebook-cell:/c%3A/Users/smtrp/OneDrive/Desktop/DS502/ISLR/HW_3/Ch6_P8_complete.ipynb#Y100sZmlsZQ%3D%3D?line=19'>20</a>\u001b[0m \u001b[39m# Fit model\u001b[39;00m\n\u001b[1;32m---> <a href='vscode-notebook-cell:/c%3A/Users/smtrp/OneDrive/Desktop/DS502/ISLR/HW_3/Ch6_P8_complete.ipynb#Y100sZmlsZQ%3D%3D?line=20'>21</a>\u001b[0m model \u001b[39m=\u001b[39m linear_model\u001b[39m.\u001b[39;49mLasso(alpha\u001b[39m=\u001b[39;49mλ, fit_intercept\u001b[39m=\u001b[39;49m\u001b[39mTrue\u001b[39;49;00m, normalize\u001b[39m=\u001b[39;49m\u001b[39mTrue\u001b[39;49;00m, max_iter\u001b[39m=\u001b[39;49m\u001b[39m1000000\u001b[39;49m)\u001b[39m.\u001b[39;49mfit(X_train, y_train)\n\u001b[0;32m     <a href='vscode-notebook-cell:/c%3A/Users/smtrp/OneDrive/Desktop/DS502/ISLR/HW_3/Ch6_P8_complete.ipynb#Y100sZmlsZQ%3D%3D?line=22'>23</a>\u001b[0m \u001b[39m# Measure MSE\u001b[39;00m\n\u001b[0;32m     <a href='vscode-notebook-cell:/c%3A/Users/smtrp/OneDrive/Desktop/DS502/ISLR/HW_3/Ch6_P8_complete.ipynb#Y100sZmlsZQ%3D%3D?line=23'>24</a>\u001b[0m y_hat \u001b[39m=\u001b[39m model\u001b[39m.\u001b[39mpredict(X_test)\n",
      "File \u001b[1;32mc:\\Users\\smtrp\\anaconda3\\lib\\site-packages\\sklearn\\linear_model\\_coordinate_descent.py:1039\u001b[0m, in \u001b[0;36mElasticNet.fit\u001b[1;34m(self, X, y, sample_weight, check_input)\u001b[0m\n\u001b[0;32m   1037\u001b[0m \u001b[39melse\u001b[39;00m:\n\u001b[0;32m   1038\u001b[0m     this_Xy \u001b[39m=\u001b[39m \u001b[39mNone\u001b[39;00m\n\u001b[1;32m-> 1039\u001b[0m _, this_coef, this_dual_gap, this_iter \u001b[39m=\u001b[39m \u001b[39mself\u001b[39;49m\u001b[39m.\u001b[39;49mpath(\n\u001b[0;32m   1040\u001b[0m     X,\n\u001b[0;32m   1041\u001b[0m     y[:, k],\n\u001b[0;32m   1042\u001b[0m     l1_ratio\u001b[39m=\u001b[39;49m\u001b[39mself\u001b[39;49m\u001b[39m.\u001b[39;49ml1_ratio,\n\u001b[0;32m   1043\u001b[0m     eps\u001b[39m=\u001b[39;49m\u001b[39mNone\u001b[39;49;00m,\n\u001b[0;32m   1044\u001b[0m     n_alphas\u001b[39m=\u001b[39;49m\u001b[39mNone\u001b[39;49;00m,\n\u001b[0;32m   1045\u001b[0m     alphas\u001b[39m=\u001b[39;49m[alpha],\n\u001b[0;32m   1046\u001b[0m     precompute\u001b[39m=\u001b[39;49mprecompute,\n\u001b[0;32m   1047\u001b[0m     Xy\u001b[39m=\u001b[39;49mthis_Xy,\n\u001b[0;32m   1048\u001b[0m     copy_X\u001b[39m=\u001b[39;49m\u001b[39mTrue\u001b[39;49;00m,\n\u001b[0;32m   1049\u001b[0m     verbose\u001b[39m=\u001b[39;49m\u001b[39mFalse\u001b[39;49;00m,\n\u001b[0;32m   1050\u001b[0m     tol\u001b[39m=\u001b[39;49m\u001b[39mself\u001b[39;49m\u001b[39m.\u001b[39;49mtol,\n\u001b[0;32m   1051\u001b[0m     positive\u001b[39m=\u001b[39;49m\u001b[39mself\u001b[39;49m\u001b[39m.\u001b[39;49mpositive,\n\u001b[0;32m   1052\u001b[0m     X_offset\u001b[39m=\u001b[39;49mX_offset,\n\u001b[0;32m   1053\u001b[0m     X_scale\u001b[39m=\u001b[39;49mX_scale,\n\u001b[0;32m   1054\u001b[0m     return_n_iter\u001b[39m=\u001b[39;49m\u001b[39mTrue\u001b[39;49;00m,\n\u001b[0;32m   1055\u001b[0m     coef_init\u001b[39m=\u001b[39;49mcoef_[k],\n\u001b[0;32m   1056\u001b[0m     max_iter\u001b[39m=\u001b[39;49m\u001b[39mself\u001b[39;49m\u001b[39m.\u001b[39;49mmax_iter,\n\u001b[0;32m   1057\u001b[0m     random_state\u001b[39m=\u001b[39;49m\u001b[39mself\u001b[39;49m\u001b[39m.\u001b[39;49mrandom_state,\n\u001b[0;32m   1058\u001b[0m     selection\u001b[39m=\u001b[39;49m\u001b[39mself\u001b[39;49m\u001b[39m.\u001b[39;49mselection,\n\u001b[0;32m   1059\u001b[0m     check_input\u001b[39m=\u001b[39;49m\u001b[39mFalse\u001b[39;49;00m,\n\u001b[0;32m   1060\u001b[0m )\n\u001b[0;32m   1061\u001b[0m coef_[k] \u001b[39m=\u001b[39m this_coef[:, \u001b[39m0\u001b[39m]\n\u001b[0;32m   1062\u001b[0m dual_gaps_[k] \u001b[39m=\u001b[39m this_dual_gap[\u001b[39m0\u001b[39m]\n",
      "File \u001b[1;32mc:\\Users\\smtrp\\anaconda3\\lib\\site-packages\\sklearn\\linear_model\\_coordinate_descent.py:647\u001b[0m, in \u001b[0;36menet_path\u001b[1;34m(X, y, l1_ratio, eps, n_alphas, alphas, precompute, Xy, copy_X, coef_init, verbose, return_n_iter, positive, check_input, **params)\u001b[0m\n\u001b[0;32m    633\u001b[0m     model \u001b[39m=\u001b[39m cd_fast\u001b[39m.\u001b[39menet_coordinate_descent_gram(\n\u001b[0;32m    634\u001b[0m         coef_,\n\u001b[0;32m    635\u001b[0m         l1_reg,\n\u001b[1;32m   (...)\u001b[0m\n\u001b[0;32m    644\u001b[0m         positive,\n\u001b[0;32m    645\u001b[0m     )\n\u001b[0;32m    646\u001b[0m \u001b[39melif\u001b[39;00m precompute \u001b[39mis\u001b[39;00m \u001b[39mFalse\u001b[39;00m:\n\u001b[1;32m--> 647\u001b[0m     model \u001b[39m=\u001b[39m cd_fast\u001b[39m.\u001b[39;49menet_coordinate_descent(\n\u001b[0;32m    648\u001b[0m         coef_, l1_reg, l2_reg, X, y, max_iter, tol, rng, random, positive\n\u001b[0;32m    649\u001b[0m     )\n\u001b[0;32m    650\u001b[0m \u001b[39melse\u001b[39;00m:\n\u001b[0;32m    651\u001b[0m     \u001b[39mraise\u001b[39;00m \u001b[39mValueError\u001b[39;00m(\n\u001b[0;32m    652\u001b[0m         \u001b[39m\"\u001b[39m\u001b[39mPrecompute should be one of True, False, \u001b[39m\u001b[39m'\u001b[39m\u001b[39mauto\u001b[39m\u001b[39m'\u001b[39m\u001b[39m or array-like. Got \u001b[39m\u001b[39m%r\u001b[39;00m\u001b[39m\"\u001b[39m\n\u001b[0;32m    653\u001b[0m         \u001b[39m%\u001b[39m precompute\n\u001b[0;32m    654\u001b[0m     )\n",
      "\u001b[1;31mKeyboardInterrupt\u001b[0m: "
     ]
    }
   ],
   "source": [
    "lambdas = np.arange(0.001, 0.01, 0.0001)\n",
    "MSEs    = [] \n",
    "for l in lambdas:\n",
    "    MSEs += [np.mean(lasso_cv(X, y, λ=l, k=10))]\n",
    "\n",
    "sns.scatterplot(x='λ', y='MSE', data=pd.DataFrame({'λ': lambdas, 'MSE': MSEs}));"
   ]
  },
  {
   "cell_type": "code",
   "execution_count": 16,
   "metadata": {},
   "outputs": [
    {
     "data": {
      "text/plain": [
       "(0.8894063503790948, 0.0022000000000000006)"
      ]
     },
     "execution_count": 16,
     "metadata": {},
     "output_type": "execute_result"
    }
   ],
   "source": [
    "min(zip(MSEs, lambdas))"
   ]
  },
  {
   "cell_type": "code",
   "execution_count": 17,
   "metadata": {},
   "outputs": [
    {
     "data": {
      "image/png": "[encoded data removed]",
      "text/plain": [
       "<Figure size 432x288 with 1 Axes>"
      ]
     },
     "metadata": {
      "needs_background": "light"
     },
     "output_type": "display_data"
    },
    {
     "data": {
      "text/html": [
       "<div>\n",
       "<style scoped>\n",
       "    .dataframe tbody tr th:only-of-type {\n",
       "        vertical-align: middle;\n",
       "    }\n",
       "\n",
       "    .dataframe tbody tr th {\n",
       "        vertical-align: top;\n",
       "    }\n",
       "\n",
       "    .dataframe thead th {\n",
       "        text-align: right;\n",
       "    }\n",
       "</style>\n",
       "<table border=\"1\" class=\"dataframe\">\n",
       "  <thead>\n",
       "    <tr style=\"text-align: right;\">\n",
       "      <th></th>\n",
       "      <th>feature</th>\n",
       "      <th>coefficient</th>\n",
       "    </tr>\n",
       "  </thead>\n",
       "  <tbody>\n",
       "    <tr>\n",
       "      <th>0</th>\n",
       "      <td>X</td>\n",
       "      <td>2.446150</td>\n",
       "    </tr>\n",
       "    <tr>\n",
       "      <th>1</th>\n",
       "      <td>X2</td>\n",
       "      <td>2.876938</td>\n",
       "    </tr>\n",
       "    <tr>\n",
       "      <th>2</th>\n",
       "      <td>X3</td>\n",
       "      <td>0.678915</td>\n",
       "    </tr>\n",
       "    <tr>\n",
       "      <th>3</th>\n",
       "      <td>X4</td>\n",
       "      <td>-0.218099</td>\n",
       "    </tr>\n",
       "    <tr>\n",
       "      <th>4</th>\n",
       "      <td>X5</td>\n",
       "      <td>1.698335</td>\n",
       "    </tr>\n",
       "    <tr>\n",
       "      <th>5</th>\n",
       "      <td>X6</td>\n",
       "      <td>-0.000000</td>\n",
       "    </tr>\n",
       "    <tr>\n",
       "      <th>6</th>\n",
       "      <td>X7</td>\n",
       "      <td>-0.503101</td>\n",
       "    </tr>\n",
       "    <tr>\n",
       "      <th>7</th>\n",
       "      <td>X8</td>\n",
       "      <td>0.028357</td>\n",
       "    </tr>\n",
       "    <tr>\n",
       "      <th>8</th>\n",
       "      <td>X9</td>\n",
       "      <td>0.047248</td>\n",
       "    </tr>\n",
       "    <tr>\n",
       "      <th>9</th>\n",
       "      <td>X10</td>\n",
       "      <td>-0.003263</td>\n",
       "    </tr>\n",
       "  </tbody>\n",
       "</table>\n",
       "</div>"
      ],
      "text/plain": [
       "  feature  coefficient\n",
       "0       X     2.446150\n",
       "1      X2     2.876938\n",
       "2      X3     0.678915\n",
       "3      X4    -0.218099\n",
       "4      X5     1.698335\n",
       "5      X6    -0.000000\n",
       "6      X7    -0.503101\n",
       "7      X8     0.028357\n",
       "8      X9     0.047248\n",
       "9     X10    -0.003263"
      ]
     },
     "metadata": {},
     "output_type": "display_data"
    }
   ],
   "source": [
    "lamb = min(zip(MSEs, lambdas))[1]\n",
    "model = linear_model.Lasso(alpha=lamb, fit_intercept=True, normalize=False, max_iter=1000000).fit(X, y)\n",
    "df = pd.DataFrame({'feature': X.columns, 'coefficient': model.coef_})\n",
    "# plot\n",
    "ax = sns.barplot(x='coefficient', y='feature', data=df);\n",
    "plt.xticks(rotation=90)\n",
    "plt.show();\n",
    "display(df)"
   ]
  },
  {
   "cell_type": "markdown",
   "metadata": {},
   "source": [
    "So with feature normalisation, we achieved negative coefficients for three out of the six significant features selected. I don't know what to make of that."
   ]
  },
  {
   "cell_type": "markdown",
   "metadata": {},
   "source": [
    "**f)**\\\n",
    "So we are running the above steps once more? Great."
   ]
  },
  {
   "cell_type": "code",
   "execution_count": 18,
   "metadata": {},
   "outputs": [
    {
     "data": {
      "text/plain": [
       "<AxesSubplot:>"
      ]
     },
     "execution_count": 18,
     "metadata": {},
     "output_type": "execute_result"
    },
    {
     "data": {
      "image/png": "[encoded data removed]",
      "text/plain": [
       "<Figure size 432x288 with 1 Axes>"
      ]
     },
     "metadata": {
      "needs_background": "light"
     },
     "output_type": "display_data"
    }
   ],
   "source": [
    "np.random.seed(1)\n",
    "x   = np.random.normal(0, 1, 100)\n",
    "eps = np.random.normal(0 ,1 , 100)\n",
    "\n",
    "y_np = 5 + 1.2*(x**7) + eps\n",
    "\n",
    "sns.scatterplot(x=x, y=y_np)"
   ]
  },
  {
   "cell_type": "code",
   "execution_count": 19,
   "metadata": {},
   "outputs": [],
   "source": [
    "X = pd.DataFrame({'X': x,\n",
    "                  'X2': x**2,\n",
    "                  'X3': x**3,\n",
    "                  'X4': x**4,\n",
    "                  'X5': x**5,\n",
    "                  'X6': x**6,\n",
    "                  'X7': x**7,\n",
    "                  'X8': x**8,\n",
    "                  'X9': x**9,\n",
    "                  'X10': x**10})\n",
    "y = pd.DataFrame({'y': y_np})"
   ]
  },
  {
   "cell_type": "markdown",
   "metadata": {},
   "source": [
    "**Best Subset Selection**"
   ]
  },
  {
   "cell_type": "code",
   "execution_count": 20,
   "metadata": {},
   "outputs": [],
   "source": [
    "def min_rss(statsmodels):\n",
    "    \"\"\"Return model with lowest Residual Sum of Squares (RSS)\"\"\"\n",
    "    return sorted(statsmodels, key=lambda tup: tup[1].ssr)[0]\n",
    "\n",
    "def max_adjr2(statsmodels):\n",
    "    \"\"\"Return model with max R-squared\"\"\"\n",
    "    return sorted(statsmodels, reverse=True, key=lambda tup: tup[1].rsquared_adj)[0]\n",
    "\n",
    "def min_bic(statsmodels):\n",
    "    \"\"\"Return model with min Bayes' Information Criteria\"\"\"\n",
    "    return sorted(statsmodels, reverse=False, key=lambda tup: tup[1].bic)[0]\n",
    "\n",
    "def min_aic(statsmodels):\n",
    "    \"\"\"Return model with min Akaike's Information Criteria\"\"\"\n",
    "    return sorted(statsmodels, reverse=False, key=lambda tup: tup[1].aic)[0]\n",
    "\n",
    "\n",
    "def get_models(k, X, y):\n",
    "    \"\"\"\n",
    "    Fit all possible models that contain exactly k predictors.\n",
    "    \"\"\"\n",
    "    # List all available predictors\n",
    "    X_combos = itertools.combinations(list(X.columns), k)\n",
    "    \n",
    "    # Fit all models\n",
    "    models = []\n",
    "    for X_label in X_combos:\n",
    "        # Parse patsy formula\n",
    "        X_smf = ' + '.join(X_label)\n",
    "        f     = '{} ~ {}'.format(y.columns[0], X_smf)\n",
    "        # Fit model\n",
    "        model = smf.ols(formula=f, data=pd.concat([X, y], axis=1)).fit()\n",
    "        # Return results\n",
    "        models += [(f, model)]\n",
    "    return models\n",
    "\n",
    "\n",
    "# Intended API\n",
    "# ----------------------------------------------\n",
    "\n",
    "def best_subset(X, y, scorer='ssr'):\n",
    "    \"\"\"Perform best subset selection using Residual Sum of Squares to\n",
    "    select best model in each subset.\n",
    "    Notes: highly computationally expensive for large number of features in  X\n",
    "    Maxes out my laptop for p > 14\"\"\"\n",
    "    # get all model results\n",
    "    model_subsets = []\n",
    "    for k in range(len(X.columns)):\n",
    "        k=k+1\n",
    "        subset = get_models(k, X, y)\n",
    "        model_subsets += [subset]\n",
    "        print('Best subset selected: k = {}/{}, done'.format(k, len(X.columns)))\n",
    "\n",
    "    # Select best in each subset using chosen scorer\n",
    "    if scorer == 'ssr':\n",
    "        # Get best rss score for each subset\n",
    "        return [min_rss(m) for m in model_subsets]\n",
    "    elif scorer == 'rsquared_adj':\n",
    "        # Get best rss score for each subset\n",
    "        return [max_adjr2(m) for m in model_subsets]       \n",
    "    elif scorer == 'bic':\n",
    "        # Get best rss score for each subset\n",
    "        return [min_bic(m) for m in model_subsets]\n",
    "    elif scorer == 'aic':\n",
    "        # Get best rss score for each subset\n",
    "        return [min_aic(m) for m in model_subsets]\n",
    "\n",
    "    \n",
    "def cross_val(formula, X, y, k):\n",
    "    \"\"\"Perform k-fold cross validation to return mean MSE score\n",
    "    Expects formula as Patsy formula\"\"\"\n",
    "    # Split dataset into k-folds\n",
    "    # Note: np.array_split doesn't raise excpetion is folds are unequal in size\n",
    "    X_folds = np.array_split(X, k)\n",
    "    y_folds = np.array_split(y, k)\n",
    "    \n",
    "    MSEs = []\n",
    "    for f in np.arange(len(X_folds)):\n",
    "        # Create training and test sets\n",
    "        X_test  = X_folds[f]\n",
    "        y_test  = y_folds[f]\n",
    "        X_train = X.drop(X_folds[f].index)\n",
    "        y_train = y.drop(y_folds[f].index)\n",
    "        \n",
    "        # Fit model\n",
    "        model = smf.ols(formula=formula, data=pd.concat([X_train, y_train], axis=1)).fit()\n",
    "        \n",
    "        # Measure MSE\n",
    "        y_hat = model.predict(X_test)\n",
    "        MSEs += [mse(y_hat, y_test['y'])]\n",
    "    return (MSEs, formula)"
   ]
  },
  {
   "cell_type": "code",
   "execution_count": 21,
   "metadata": {},
   "outputs": [
    {
     "name": "stdout",
     "output_type": "stream",
     "text": [
      "Best subset selected: k = 1/10, done\n",
      "Best subset selected: k = 2/10, done\n",
      "Best subset selected: k = 3/10, done\n",
      "Best subset selected: k = 4/10, done\n",
      "Best subset selected: k = 5/10, done\n",
      "Best subset selected: k = 6/10, done\n",
      "Best subset selected: k = 7/10, done\n",
      "Best subset selected: k = 8/10, done\n",
      "Best subset selected: k = 9/10, done\n",
      "Best subset selected: k = 10/10, done\n"
     ]
    }
   ],
   "source": [
    "# get all model results\n",
    "best_subset_models = best_subset(X, y, scorer='bic')"
   ]
  },
  {
   "cell_type": "code",
   "execution_count": 22,
   "metadata": {},
   "outputs": [
    {
     "data": {
      "text/html": [
       "<div>\n",
       "<style scoped>\n",
       "    .dataframe tbody tr th:only-of-type {\n",
       "        vertical-align: middle;\n",
       "    }\n",
       "\n",
       "    .dataframe tbody tr th {\n",
       "        vertical-align: top;\n",
       "    }\n",
       "\n",
       "    .dataframe thead th {\n",
       "        text-align: right;\n",
       "    }\n",
       "</style>\n",
       "<table border=\"1\" class=\"dataframe\">\n",
       "  <thead>\n",
       "    <tr style=\"text-align: right;\">\n",
       "      <th></th>\n",
       "      <th>formula</th>\n",
       "      <th>mse</th>\n",
       "    </tr>\n",
       "  </thead>\n",
       "  <tbody>\n",
       "    <tr>\n",
       "      <th>2</th>\n",
       "      <td>y ~ X2 + X6 + X7</td>\n",
       "      <td>0.854173</td>\n",
       "    </tr>\n",
       "  </tbody>\n",
       "</table>\n",
       "</div>"
      ],
      "text/plain": [
       "            formula       mse\n",
       "2  y ~ X2 + X6 + X7  0.854173"
      ]
     },
     "metadata": {},
     "output_type": "display_data"
    },
    {
     "data": {
      "text/plain": [
       "Intercept    5.271801\n",
       "X2          -0.320021\n",
       "X6           0.020727\n",
       "X7           1.203961\n",
       "dtype: float64"
      ]
     },
     "metadata": {},
     "output_type": "display_data"
    },
    {
     "data": {
      "image/png": "[encoded data removed]",
      "text/plain": [
       "<Figure size 432x288 with 1 Axes>"
      ]
     },
     "metadata": {
      "needs_background": "light"
     },
     "output_type": "display_data"
    }
   ],
   "source": [
    "# Parse results\n",
    "best_subset_formula = [f[0] for f in best_subset_models]\n",
    "best_subset_mses    = [np.mean(cross_val(f, X, y, 10)[0]) for f in best_subset_formula]\n",
    "df = pd.DataFrame({'formula': best_subset_formula, 'mse': best_subset_mses})\n",
    "\n",
    "# Show chosen model\n",
    "display(df[df['mse'] == df['mse'].min()])\n",
    "best_subset_params = best_subset_models[2][1].params\n",
    "display(best_subset_params)\n",
    "\n",
    "# Plot mse across subsets\n",
    "ax = sns.lineplot(x='formula', y='mse', data=df, sort=False)\n",
    "plt.xticks(rotation=90)\n",
    "plt.show();"
   ]
  },
  {
   "cell_type": "code",
   "execution_count": 23,
   "metadata": {},
   "outputs": [
    {
     "data": {
      "text/plain": [
       "<AxesSubplot:>"
      ]
     },
     "execution_count": 23,
     "metadata": {},
     "output_type": "execute_result"
    },
    {
     "data": {
      "image/png": "[encoded data removed]",
      "text/plain": [
       "<Figure size 432x288 with 1 Axes>"
      ]
     },
     "metadata": {
      "needs_background": "light"
     },
     "output_type": "display_data"
    }
   ],
   "source": [
    "x = np.arange(-2.3, 2.3, 0.01)\n",
    "sns.lineplot(x=x, y=5 + 1.2*(x**7))\n",
    "sns.lineplot(x=x, y=5.27 - 0.32*(x**2) + 0.02*(x**6) + 1.20*(x**7))"
   ]
  },
  {
   "cell_type": "code",
   "execution_count": 24,
   "metadata": {},
   "outputs": [],
   "source": [
    "def lasso_cv(X, y, λ, k):\n",
    "    \"\"\"Perform the lasso with \n",
    "    k-fold cross validation to return mean MSE scores for each fold\"\"\"\n",
    "    # Split dataset into k-folds\n",
    "    # Note: np.array_split doesn't raise excpetion is folds are unequal in size\n",
    "    X_folds = np.array_split(X, k)\n",
    "    y_folds = np.array_split(y, k)\n",
    "    \n",
    "    MSEs = []\n",
    "    for f in np.arange(len(X_folds)):\n",
    "        # Create training and test sets\n",
    "        X_test  = X_folds[f]\n",
    "        y_test  = y_folds[f]\n",
    "        X_train = X.drop(X_folds[f].index)\n",
    "        y_train = y.drop(y_folds[f].index)\n",
    "        \n",
    "        # Fit model\n",
    "        model = linear_model.Lasso(alpha=λ, fit_intercept=True, normalize=True, max_iter=1000000).fit(X_train, y_train)\n",
    "\n",
    "        # Measure MSE\n",
    "        y_hat = model.predict(X_test)\n",
    "        MSEs += [mse(y_hat, y_test['y'])]\n",
    "    return MSEs"
   ]
  },
  {
   "cell_type": "code",
   "execution_count": 25,
   "metadata": {},
   "outputs": [
    {
     "data": {
      "image/png": "[encoded data removed]",
      "text/plain": [
       "<Figure size 432x288 with 1 Axes>"
      ]
     },
     "metadata": {
      "needs_background": "light"
     },
     "output_type": "display_data"
    }
   ],
   "source": [
    "lambdas = np.arange(0.01, 0.1, 0.001)\n",
    "MSEs    = [] \n",
    "for l in lambdas:\n",
    "    MSEs += [np.mean(lasso_cv(X, y, λ=l, k=10))]\n",
    "\n",
    "sns.scatterplot(x='λ', y='MSE', data=pd.DataFrame({'λ': lambdas, 'MSE': MSEs}));"
   ]
  },
  {
   "cell_type": "code",
   "execution_count": 26,
   "metadata": {},
   "outputs": [
    {
     "data": {
      "text/plain": [
       "(1.0480683621469287, 0.03799999999999998)"
      ]
     },
     "execution_count": 26,
     "metadata": {},
     "output_type": "execute_result"
    }
   ],
   "source": [
    "min(zip(MSEs, lambdas))"
   ]
  },
  {
   "cell_type": "code",
   "execution_count": 27,
   "metadata": {},
   "outputs": [
    {
     "data": {
      "image/png": "[encoded data removed]",
      "text/plain": [
       "<Figure size 432x288 with 1 Axes>"
      ]
     },
     "metadata": {
      "needs_background": "light"
     },
     "output_type": "display_data"
    },
    {
     "data": {
      "text/html": [
       "<div>\n",
       "<style scoped>\n",
       "    .dataframe tbody tr th:only-of-type {\n",
       "        vertical-align: middle;\n",
       "    }\n",
       "\n",
       "    .dataframe tbody tr th {\n",
       "        vertical-align: top;\n",
       "    }\n",
       "\n",
       "    .dataframe thead th {\n",
       "        text-align: right;\n",
       "    }\n",
       "</style>\n",
       "<table border=\"1\" class=\"dataframe\">\n",
       "  <thead>\n",
       "    <tr style=\"text-align: right;\">\n",
       "      <th></th>\n",
       "      <th>feature</th>\n",
       "      <th>coefficient</th>\n",
       "    </tr>\n",
       "  </thead>\n",
       "  <tbody>\n",
       "    <tr>\n",
       "      <th>0</th>\n",
       "      <td>X0</td>\n",
       "      <td>5.139609</td>\n",
       "    </tr>\n",
       "    <tr>\n",
       "      <th>1</th>\n",
       "      <td>X</td>\n",
       "      <td>0.000000</td>\n",
       "    </tr>\n",
       "    <tr>\n",
       "      <th>2</th>\n",
       "      <td>X2</td>\n",
       "      <td>-0.000000</td>\n",
       "    </tr>\n",
       "    <tr>\n",
       "      <th>3</th>\n",
       "      <td>X3</td>\n",
       "      <td>0.000000</td>\n",
       "    </tr>\n",
       "    <tr>\n",
       "      <th>4</th>\n",
       "      <td>X4</td>\n",
       "      <td>0.000000</td>\n",
       "    </tr>\n",
       "    <tr>\n",
       "      <th>5</th>\n",
       "      <td>X5</td>\n",
       "      <td>0.038360</td>\n",
       "    </tr>\n",
       "    <tr>\n",
       "      <th>6</th>\n",
       "      <td>X6</td>\n",
       "      <td>0.000000</td>\n",
       "    </tr>\n",
       "    <tr>\n",
       "      <th>7</th>\n",
       "      <td>X7</td>\n",
       "      <td>1.186933</td>\n",
       "    </tr>\n",
       "    <tr>\n",
       "      <th>8</th>\n",
       "      <td>X8</td>\n",
       "      <td>0.000000</td>\n",
       "    </tr>\n",
       "    <tr>\n",
       "      <th>9</th>\n",
       "      <td>X9</td>\n",
       "      <td>0.000000</td>\n",
       "    </tr>\n",
       "    <tr>\n",
       "      <th>10</th>\n",
       "      <td>X10</td>\n",
       "      <td>0.000000</td>\n",
       "    </tr>\n",
       "  </tbody>\n",
       "</table>\n",
       "</div>"
      ],
      "text/plain": [
       "   feature  coefficient\n",
       "0       X0     5.139609\n",
       "1        X     0.000000\n",
       "2       X2    -0.000000\n",
       "3       X3     0.000000\n",
       "4       X4     0.000000\n",
       "5       X5     0.038360\n",
       "6       X6     0.000000\n",
       "7       X7     1.186933\n",
       "8       X8     0.000000\n",
       "9       X9     0.000000\n",
       "10     X10     0.000000"
      ]
     },
     "metadata": {},
     "output_type": "display_data"
    }
   ],
   "source": [
    "# What coefficients does the lasso choose for the optimal lambda value?\n",
    "λ = min(zip(MSEs, lambdas))[1]\n",
    "model = linear_model.Lasso(alpha=λ, fit_intercept=True, normalize=True, max_iter=1000000).fit(X, y)\n",
    "intercept  = pd.DataFrame({'feature': 'X0', 'coefficient': model.intercept_})\n",
    "lasso_a_df = intercept.append(pd.DataFrame({'feature': X.columns, 'coefficient': model.coef_}), ignore_index=True)\n",
    "ax = sns.barplot(x='coefficient', y='feature', data=lasso_a_df);\n",
    "plt.xticks(rotation=90)\n",
    "plt.show();\n",
    "\n",
    "display(lasso_a_df)\n"
   ]
  },
  {
   "cell_type": "code",
   "execution_count": 28,
   "metadata": {},
   "outputs": [
    {
     "data": {
      "image/png": "[encoded data removed]",
      "text/plain": [
       "<Figure size 432x288 with 1 Axes>"
      ]
     },
     "metadata": {
      "needs_background": "light"
     },
     "output_type": "display_data"
    },
    {
     "data": {
      "image/png": "[encoded data removed]",
      "text/plain": [
       "<Figure size 432x288 with 1 Axes>"
      ]
     },
     "metadata": {
      "needs_background": "light"
     },
     "output_type": "display_data"
    },
    {
     "data": {
      "text/html": [
       "<div>\n",
       "<style scoped>\n",
       "    .dataframe tbody tr th:only-of-type {\n",
       "        vertical-align: middle;\n",
       "    }\n",
       "\n",
       "    .dataframe tbody tr th {\n",
       "        vertical-align: top;\n",
       "    }\n",
       "\n",
       "    .dataframe thead th {\n",
       "        text-align: right;\n",
       "    }\n",
       "</style>\n",
       "<table border=\"1\" class=\"dataframe\">\n",
       "  <thead>\n",
       "    <tr style=\"text-align: right;\">\n",
       "      <th></th>\n",
       "      <th>feature</th>\n",
       "      <th>coefficient</th>\n",
       "    </tr>\n",
       "  </thead>\n",
       "  <tbody>\n",
       "    <tr>\n",
       "      <th>0</th>\n",
       "      <td>X0</td>\n",
       "      <td>5.275241</td>\n",
       "    </tr>\n",
       "    <tr>\n",
       "      <th>1</th>\n",
       "      <td>X</td>\n",
       "      <td>0.546472</td>\n",
       "    </tr>\n",
       "    <tr>\n",
       "      <th>2</th>\n",
       "      <td>X2</td>\n",
       "      <td>-0.261390</td>\n",
       "    </tr>\n",
       "    <tr>\n",
       "      <th>3</th>\n",
       "      <td>X3</td>\n",
       "      <td>-2.428896</td>\n",
       "    </tr>\n",
       "    <tr>\n",
       "      <th>4</th>\n",
       "      <td>X4</td>\n",
       "      <td>-0.088259</td>\n",
       "    </tr>\n",
       "    <tr>\n",
       "      <th>5</th>\n",
       "      <td>X5</td>\n",
       "      <td>2.363543</td>\n",
       "    </tr>\n",
       "    <tr>\n",
       "      <th>6</th>\n",
       "      <td>X6</td>\n",
       "      <td>0.000000</td>\n",
       "    </tr>\n",
       "    <tr>\n",
       "      <th>7</th>\n",
       "      <td>X7</td>\n",
       "      <td>0.469777</td>\n",
       "    </tr>\n",
       "    <tr>\n",
       "      <th>8</th>\n",
       "      <td>X8</td>\n",
       "      <td>0.006829</td>\n",
       "    </tr>\n",
       "    <tr>\n",
       "      <th>9</th>\n",
       "      <td>X9</td>\n",
       "      <td>0.071042</td>\n",
       "    </tr>\n",
       "    <tr>\n",
       "      <th>10</th>\n",
       "      <td>X10</td>\n",
       "      <td>0.000378</td>\n",
       "    </tr>\n",
       "  </tbody>\n",
       "</table>\n",
       "</div>"
      ],
      "text/plain": [
       "   feature  coefficient\n",
       "0       X0     5.275241\n",
       "1        X     0.546472\n",
       "2       X2    -0.261390\n",
       "3       X3    -2.428896\n",
       "4       X4    -0.088259\n",
       "5       X5     2.363543\n",
       "6       X6     0.000000\n",
       "7       X7     0.469777\n",
       "8       X8     0.006829\n",
       "9       X9     0.071042\n",
       "10     X10     0.000378"
      ]
     },
     "metadata": {},
     "output_type": "display_data"
    }
   ],
   "source": [
    "lambdas = np.arange(0.000001, 0.0005, 0.00001)\n",
    "MSEs    = [] \n",
    "for l in lambdas:\n",
    "    MSEs += [np.mean(lasso_cv(X, y, λ=l, k=10))]\n",
    "\n",
    "sns.scatterplot(x='λ', y='MSE', data=pd.DataFrame({'λ': lambdas, 'MSE': MSEs}))\n",
    "plt.show();\n",
    "\n",
    "# What coefficients does the lasso choose for the optimal lambda value?\n",
    "λ = min(zip(MSEs, lambdas))[1]\n",
    "model = linear_model.Lasso(alpha=λ, fit_intercept=True, normalize=True, max_iter=1000000).fit(X, y)\n",
    "intercept  = pd.DataFrame({'feature': 'X0', 'coefficient': model.intercept_})\n",
    "lasso_b_df = intercept.append(pd.DataFrame({'feature': X.columns, 'coefficient': model.coef_}), ignore_index=True)\n",
    "ax = sns.barplot(x='coefficient', y='feature', data=lasso_b_df);\n",
    "plt.xticks(rotation=90)\n",
    "plt.show();\n",
    "\n",
    "display(lasso_b_df)\n"
   ]
  },
  {
   "cell_type": "code",
   "execution_count": 29,
   "metadata": {},
   "outputs": [
    {
     "data": {
      "text/plain": [
       "(0.842302578493106, 0.00026100000000000006)"
      ]
     },
     "execution_count": 29,
     "metadata": {},
     "output_type": "execute_result"
    }
   ],
   "source": [
    "min(zip(MSEs, lambdas))"
   ]
  },
  {
   "cell_type": "code",
   "execution_count": 30,
   "metadata": {},
   "outputs": [
    {
     "data": {
      "text/html": [
       "<h4>Actual MSEs compared to known f(x)</h4>"
      ],
      "text/plain": [
       "<IPython.core.display.HTML object>"
      ]
     },
     "metadata": {},
     "output_type": "display_data"
    },
    {
     "name": "stdout",
     "output_type": "stream",
     "text": [
      "Best subset selection    : 0.5015558203751351\n",
      "Lasso a (higher lambda)  : 0.23328025069876512\n",
      "Lasso b (lower lambda ~0): 5.483599366481567\n"
     ]
    }
   ],
   "source": [
    "x   = np.random.normal(0, 1, 100)\n",
    "X = pd.DataFrame({'X': x,\n",
    "                  'X2': x**2,\n",
    "                  'X3': x**3,\n",
    "                  'X4': x**4,\n",
    "                  'X5': x**5,\n",
    "                  'X6': x**6,\n",
    "                  'X7': x**7,\n",
    "                  'X8': x**8,\n",
    "                  'X9': x**9,\n",
    "                  'X10': x**10})\n",
    "X_np = np.insert(np.array(X), 0, 1, axis=1)\n",
    "\n",
    "y_actual = 5 + 1.2*(x**7)\n",
    "bss_params = np.zeros(11)\n",
    "bss_params[0] = best_subset_params[0]\n",
    "bss_params[2] = best_subset_params[1]\n",
    "bss_params[6] = best_subset_params[2]\n",
    "bss_params[7] = best_subset_params[3]\n",
    "\n",
    "lasso_a_params = np.array(lasso_a_df['coefficient'])\n",
    "lasso_b_params = np.array(lasso_b_df['coefficient'])\n",
    "y_bss     = X_np @ bss_params\n",
    "y_lasso_a = X_np @ lasso_a_params\n",
    "y_lasso_b = X_np @ lasso_b_params\n",
    "def mse(y_hat, y):\n",
    "    \"\"\"Calculate Mean Squared Error\"\"\"\n",
    "    return np.sum(np.square(y_hat - y)) / y.size\n",
    "display(HTML('<h4>Actual MSEs compared to known f(x)</h4>'))\n",
    "print('Best subset selection    : {}'.format(mse(y_bss, y_actual)))\n",
    "print('Lasso a (higher lambda)  : {}'.format(mse(y_lasso_a, y_actual)))\n",
    "print('Lasso b (lower lambda ~0): {}'.format(mse(y_lasso_b, y_actual)))"
   ]
  },
  {
   "cell_type": "markdown",
   "metadata": {},
   "source": [
    "**Comments on Findings**\\\n",
    "Here we used three seperate approaches to estimate the mode f(x) in a simulated context with noise added. We tested the estimated model for each aproach against the true f(x) without noise.\n",
    "\n",
    "Best subset selection and ridge-regression (lasso b) produced the lowest CV mse, but lasso a achieved the lowest MSE when compared with the true model f(x). The lasso a was also most effective at ignoring superfluous feautures as it essentially drove them to zero."
   ]
  }
 ],
 "metadata": {
  "kernelspec": {
   "display_name": "Python 3.9.12 ('base')",
   "language": "python",
   "name": "python3"
  },
  "language_info": {
   "codemirror_mode": {
    "name": "ipython",
    "version": 3
   },
   "file_extension": ".py",
   "mimetype": "text/x-python",
   "name": "python",
   "nbconvert_exporter": "python",
   "pygments_lexer": "ipython3",
   "version": "3.9.12"
  },
  "orig_nbformat": 4,
  "vscode": {
   "interpreter": {
    "hash": "0314ebf957664a55db46b44e96ea611994405d14351282b365ae6c7dbed92203"
   }
  }
 },
 "nbformat": 4,
 "nbformat_minor": 2
}
