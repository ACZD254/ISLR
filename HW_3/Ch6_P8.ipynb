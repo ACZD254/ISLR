{
 "cells": [
  {
   "cell_type": "markdown",
   "metadata": {},
   "source": [
    "**Foreword**\n",
    "This is my attempt to do this exercise without using any libraries, as far as possible. Now I am aware that best subset would be a hefty job for the processor but let's see what I can come up with. Seems fun, to be honest.\n",
    "Here is my game plan. I am going to read the prompt as then record my first instinct as to how I would go about solving the problem. The final result might vary though as there are so many factors which might make or break my solution."
   ]
  },
  {
   "cell_type": "markdown",
   "metadata": {},
   "source": [
    "**a)**\n",
    "I doubt we have an r-norm function in Pyton. But I am pretty sure that some library does have that. So I'll use that here. The noise can be added using a similar random number generator within a certain range, I am sure. But I want to make sure the random numbers generated are truly random so maybe I will create a list, and then append that list in a loop where the loop calls in the random number generator. As the two calls to the random function are not within the same loop cycle, they will truly be random."
   ]
  },
  {
   "cell_type": "code",
   "execution_count": 14,
   "metadata": {},
   "outputs": [],
   "source": [
    "# The analogue of rnorm() in python is a function called np.random.normal()\n",
    "# So lets use that to create the predictor list.\n",
    "# Here I am creating the predictor list.\n",
    "import numpy as np\n",
    "np.random.seed(1)\n",
    "X = np.random.normal(loc = 10, scale = 5, size=100)\n",
    "# I don't know if choosing 5 as the standard deviation is a smart choice.\n",
    "# Lets see what happens"
   ]
  },
  {
   "cell_type": "code",
   "execution_count": 15,
   "metadata": {},
   "outputs": [
    {
     "data": {
      "text/plain": [
       "array([ 1.78862847,  0.43650985,  0.09649747, -1.8634927 , -0.2773882 ,\n",
       "       -0.35475898, -0.08274148, -0.62700068, -0.04381817, -0.47721803,\n",
       "       -1.31386475,  0.88462238,  0.88131804,  1.70957306,  0.05003364,\n",
       "       -0.40467741, -0.54535995, -1.54647732,  0.98236743, -1.10106763,\n",
       "       -1.18504653, -0.2056499 ,  1.48614836,  0.23671627, -1.02378514,\n",
       "       -0.7129932 ,  0.62524497, -0.16051336, -0.76883635, -0.23003072,\n",
       "        0.74505627,  1.97611078, -1.24412333, -0.62641691, -0.80376609,\n",
       "       -2.41908317, -0.92379202, -1.02387576,  1.12397796, -0.13191423,\n",
       "       -1.62328545,  0.64667545, -0.35627076, -1.74314104, -0.59664964,\n",
       "       -0.58859438, -0.8738823 ,  0.02971382, -2.24825777, -0.26776186,\n",
       "        1.01318344,  0.85279784,  1.1081875 ,  1.11939066,  1.48754313,\n",
       "       -1.11830068,  0.84583341, -1.86088953, -0.6028851 , -1.91447204,\n",
       "        1.04814751,  1.33373782, -0.19741468,  1.77464503, -0.67472751,\n",
       "        0.15061687,  0.1529457 , -1.06419527,  0.43794661,  1.93897846,\n",
       "       -1.02493087,  0.89933845, -0.15450685,  1.7696273 ,  0.48378835,\n",
       "        0.6762164 ,  0.64316328,  0.24908671, -1.3957635 ,  1.39166291,\n",
       "       -1.37066901,  0.23856319,  0.61407709, -0.83791227,  0.14506321,\n",
       "        1.16788229, -0.02410447, -0.88865742, -2.91573775, -0.9718405 ,\n",
       "       -0.59107874, -0.51641737, -0.95999618,  0.37729523, -0.57470842,\n",
       "       -0.10945433,  0.6790716 , -0.85543717, -0.30020607,  2.15814934])"
      ]
     },
     "execution_count": 15,
     "metadata": {},
     "output_type": "execute_result"
    }
   ],
   "source": [
    "# Creating the Noise variable\n",
    "np.random.seed(3)\n",
    "noise = np.random.normal(0,1,100)\n",
    "noise"
   ]
  },
  {
   "cell_type": "markdown",
   "metadata": {},
   "source": [
    "**b)**\n",
    "Okay, this is pretty starightforward. I can just create a list of Yi's where every Y is determined by the function acting on my list of Xi's and then adding the noise to it. lets see how that works."
   ]
  },
  {
   "cell_type": "code",
   "execution_count": 17,
   "metadata": {},
   "outputs": [
    {
     "data": {
      "text/plain": [
       "array([ 1.85310656e+04,  1.10803292e+03,  1.31241571e+03,  3.45495602e+02,\n",
       "        9.24805412e+03, -6.59776666e+00,  2.04142467e+04,  7.96195716e+02,\n",
       "        4.95832044e+03,  2.17444679e+03,  1.61778643e+04,  1.68319287e+00,\n",
       "        1.92143137e+03,  1.72373597e+03,  1.20484508e+04,  3.19079747e+02,\n",
       "        2.46563989e+03,  5.97900300e+02,  3.41472486e+03,  6.80753133e+03,\n",
       "        3.17567314e+02,  1.21731358e+04,  9.59888900e+03,  6.20380391e+03,\n",
       "        9.58920450e+03,  9.48698253e+02,  2.66746539e+03,  5.14789992e+02,\n",
       "        2.10766573e+03,  6.40897064e+03,  9.33706252e+02,  1.68488113e+03,\n",
       "        9.41000124e+02,  6.50316066e+02,  9.74880727e+02,  3.14936212e+03,\n",
       "        3.01349101e+02,  4.44411913e+03,  1.90726105e+04,  8.12185558e+03,\n",
       "        2.38878507e+03,  5.85232169e+02,  8.22816981e+02,  1.95783334e+04,\n",
       "        3.45544030e+03,  1.04967675e+03,  4.19482502e+03,  2.67123358e+04,\n",
       "        3.80795799e+03,  7.07900306e+03,  4.84169190e+03,  1.82351099e+03,\n",
       "        2.79591211e+02,  1.83316694e+03,  2.32658651e+03,  6.83713766e+03,\n",
       "        8.99967509e+03,  9.88666939e+03,  4.75040846e+03,  9.43572413e+03,\n",
       "        8.10570669e+02,  1.34548144e+04,  6.27986685e+03,  2.00469121e+03,\n",
       "        6.10141742e+03,  2.86855935e+03,  1.20242453e+04,  1.69897651e+04,\n",
       "        2.83960438e+04,  1.06594617e+02,  8.26202582e+01,  1.37556253e+03,\n",
       "        4.02426426e+03,  9.35301882e+03,  4.93747665e+03,  1.58575145e+00,\n",
       "        1.97583711e+03,  8.89647068e+03,  4.41853848e+03,  8.29910098e+03,\n",
       "        2.27314285e+03,  2.35633635e+03,  4.17187226e+03,  5.55203764e+03,\n",
       "        4.23751177e+03,  3.80531067e+03,  9.76901095e+02,  5.33460788e+03,\n",
       "        3.81606427e+03,  1.19987833e+04,  1.28035955e+04,  4.16287558e+03,\n",
       "        1.74843303e+03,  1.04677662e+03,  5.64394764e+03,  3.58870646e+03,\n",
       "        1.85054296e+03,  3.41967043e+03,  1.08834487e+03,  7.74561413e+03])"
      ]
     },
     "execution_count": 17,
     "metadata": {},
     "output_type": "execute_result"
    }
   ],
   "source": [
    "# Creating the response variable\n",
    "# To keep it simple, I am going to use 1 as B1, 2 as B2 and 3 as B3\n",
    "Y = 1 + X + 2*(X**2)+3*(X**3) + noise\n",
    "Y"
   ]
  },
  {
   "cell_type": "markdown",
   "metadata": {},
   "source": [
    "**c)**\n",
    "This is where stuff gets interesting. I am absolutely sure that there must be some library for best subset selection but I am sure I can just make that function on my own. I am aware that it is going to have exponential time complexity but we are dealing with only 10 estimators so that shouldn't be too bad. I would absolutely refrain from using best subset selection with anything more than 30 predictors though.\n",
    "I am also supposed to plot the evidence and create a single data frame containing X and Y.\n",
    "Okay, lets see."
   ]
  },
  {
   "cell_type": "code",
   "execution_count": null,
   "metadata": {},
   "outputs": [],
   "source": [
    "# Pseudocode\n",
    "# for i goes from 1 to 10\n",
    "# from the set of possible predictors (X, X^2...X^10)\n",
    "# make combinations of i elements\n",
    "# find the R^2 statistic of the combinations\n",
    "# find the one with the highest R^2 and store that combination\n",
    "# Repeat it for all possible subsets\n",
    "# For j in the thus curated best sub - subset list\n",
    "# Find the one with the best \n",
    "# a) Cp \n",
    "# b) BIC\n",
    "# c) adjusted R^2\n",
    "# plot the graphs for the three models thus obtained\n",
    "# Save results in a dataframe"
   ]
  },
  {
   "cell_type": "code",
   "execution_count": 20,
   "metadata": {},
   "outputs": [],
   "source": [
    "# Creating the list of predictors\n",
    "pred_list = []\n",
    "for i in list(range(1,11)):\n",
    "    #print(i)\n",
    "    pred_list.append(X**i)"
   ]
  },
  {
   "cell_type": "code",
   "execution_count": 55,
   "metadata": {},
   "outputs": [],
   "source": [
    "# How can I do NcR on a subset?\n",
    "# I can probably design a tree recursive function that does that for me\n",
    "# So the two arguments passed in would be n, ie the number of slots\n",
    "# set_s, the set from which the elements are to be chosen\n",
    "# I want the function to fork multiple times ofc\n",
    "# Okay, lets try it\n",
    "# How would I do nCr with r = 1?\n",
    "# def nCr(n, r, set):\n",
    "#     if r == 1:\n",
    "#         for i in n:\n",
    "#             set.append(i)\n",
    "#         return set\n",
    "#     # Okay that makes sense. So that's the base case\n",
    "#     # How about r = 2?\n",
    "#     else:\n",
    "#         sub_set = []\n",
    "#         for j in r:\n",
    "#             sub_set[j].append(n.pop(j))\n",
    "#             sub_set[j].append(nCr(n,r-1,sub_set))\n",
    "    \n",
    "    # Okay, this is a good start but this is definitely incorrect\n",
    "    # What do I want the function to do?\n",
    "    # Let me think. This is absurdly interesting.\n",
    "    # I want r slots\n",
    "    # I want a list of n-r elements to be delivered to the last loop\n",
    "    # I also want a list of the first r elements to be delivered simultaneously\n",
    "    # [n] [n-1] [n-2] [n-3]\n",
    "    # Oh, so this is about the relationship between n and r.\n",
    "    # if r>len(n) ,return n\n",
    "    # if r= len(n) ,return n\n",
    "    # if r< len(n) ,return number of unique subsets.\n",
    "\n",
    "# I don't even really need the list right now. I can just use int lists\n",
    "# and then use the output as indices.\n",
    "# lets try that\n",
    "\n",
    "\n",
    "# def n_choose_r(n, r, sub_set):\n",
    "    # if r == 1:\n",
    "    #     for i in n:\n",
    "    #         subset.append(i)\n",
    "    #         print(subset)\n",
    "    # else:\n",
    "    #     for j in [0,r-1]:\n",
    "    #         subset.append(n.pop(0))\n",
    "    #         subset.append(n_choose_r(n,r-1,subset))\n",
    "    # #print(subset)\n",
    "# for a given r, return all subsets of length r belonging to n\n",
    "# so r is constant\n",
    "# what is changing?\n",
    "# the avalaible elements\n",
    "    # k = range(len(n)-r)\n",
    "    # for j in k:\n",
    "    #     subset = []\n",
    "    #     subset.append(n.pop(0))\n",
    "    #     subset.append(n_choose_r(n,r,subset))\n",
    "    #     sub_set = subset\n",
    "    # print(sub_set)\n"
   ]
  },
  {
   "cell_type": "code",
   "execution_count": 59,
   "metadata": {},
   "outputs": [],
   "source": [
    "# def n_choose_r(n,r,sub_set):\n",
    "#     #create list n-r long\n",
    "#     sub = []\n",
    "#     list_len = len(n)-r\n",
    "#     for i in list_len:\n",
    "        \n",
    "#         n_choose_r(n\n",
    "#     print(sub)\n",
    "#     # Now that the base list is created, we can populate it\n",
    "#     # How do I do that?\n",
    "#     # For every bin, I have n-i options where i is the bin number\n",
    "#     # and n is the length of the main list\n",
    "#     # I need a loop that creates new lists\n",
    "#     # I need to create a new subset when\n",
    "#     # Oh this is fucking complicated.\n",
    "    \n",
    "        "
   ]
  },
  {
   "cell_type": "code",
   "execution_count": 69,
   "metadata": {},
   "outputs": [],
   "source": [
    "# def my_func(c,r,my_list,subset):\n",
    "#     if c == r:\n",
    "#         for i in my_list:\n",
    "#             subset + [i]\n",
    "#             print(subset)\n",
    "#     else:\n",
    "#         for i in range(len(my_list)):\n",
    "#             subset.append(0)\n",
    "#             my_func(c+1,r,my_list[i+1:],subset)\n",
    "            "
   ]
  },
  {
   "cell_type": "code",
   "execution_count": 70,
   "metadata": {},
   "outputs": [
    {
     "name": "stdout",
     "output_type": "stream",
     "text": [
      "[0, 0]\n",
      "[0, 0]\n",
      "[0, 0]\n",
      "[0, 0]\n",
      "[0, 0, 0]\n",
      "[0, 0, 0]\n",
      "[0, 0, 0]\n",
      "[0, 0, 0, 0]\n",
      "[0, 0, 0, 0]\n",
      "[0, 0, 0, 0, 0]\n",
      "[0, 0, 0, 0, 0, 0, 0, 0]\n",
      "[0, 0, 0, 0, 0, 0, 0, 0]\n",
      "[0, 0, 0, 0, 0, 0, 0, 0]\n",
      "[0, 0, 0, 0, 0, 0, 0, 0, 0]\n",
      "[0, 0, 0, 0, 0, 0, 0, 0, 0]\n",
      "[0, 0, 0, 0, 0, 0, 0, 0, 0, 0]\n",
      "[0, 0, 0, 0, 0, 0, 0, 0, 0, 0, 0, 0, 0]\n",
      "[0, 0, 0, 0, 0, 0, 0, 0, 0, 0, 0, 0, 0]\n",
      "[0, 0, 0, 0, 0, 0, 0, 0, 0, 0, 0, 0, 0, 0]\n",
      "[0, 0, 0, 0, 0, 0, 0, 0, 0, 0, 0, 0, 0, 0, 0, 0, 0]\n"
     ]
    }
   ],
   "source": [
    "# my_list = [0,1,2,3,4,5]\n",
    "# my_ret_list = []\n",
    "# r = 3\n",
    "# n = len(my_list)\n",
    "# my_func(1,r,my_list,my_ret_list)\n"
   ]
  },
  {
   "cell_type": "markdown",
   "metadata": {},
   "source": [
    "**d)**\n",
    "Forward stepwise and backward stepwise. Hmm, not as complicated as Best subset. However I do need to create an ordered list of Predictors based on their significance measured by their P value. Then I can just compose the forward step wise and back ward stepwise solution. Lets see."
   ]
  },
  {
   "cell_type": "markdown",
   "metadata": {},
   "source": [
    "**Note To Isaac**\\\n",
    "I turned this to an algorithms assignment and ran out of time. I will finish the approach above but for now, I am going to stick with libraries. I have about an hour to finish this.\n"
   ]
  }
 ],
 "metadata": {
  "kernelspec": {
   "display_name": "Python 3.9.12 ('base')",
   "language": "python",
   "name": "python3"
  },
  "language_info": {
   "codemirror_mode": {
    "name": "ipython",
    "version": 3
   },
   "file_extension": ".py",
   "mimetype": "text/x-python",
   "name": "python",
   "nbconvert_exporter": "python",
   "pygments_lexer": "ipython3",
   "version": "3.9.12"
  },
  "orig_nbformat": 4,
  "vscode": {
   "interpreter": {
    "hash": "0314ebf957664a55db46b44e96ea611994405d14351282b365ae6c7dbed92203"
   }
  }
 },
 "nbformat": 4,
 "nbformat_minor": 2
}
