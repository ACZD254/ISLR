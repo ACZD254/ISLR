{
 "cells": [
  {
   "cell_type": "code",
   "execution_count": null,
   "metadata": {},
   "outputs": [],
   "source": []
  }
 ],
 "metadata": {
  "kernelspec": {
   "display_name": "Python 3.10.8 64-bit (microsoft store)",
   "language": "python",
   "name": "python3"
  },
  "language_info": {
   "name": "python",
   "version": "3.10.8"
  },
  "orig_nbformat": 4,
  "vscode": {
   "interpreter": {
    "hash": "73e366e92ec82923ac58f8b84dcb1df165a28e66bad7b7f2aa9d7459dc9c343a"
   }
  }
 },
 "nbformat": 4,
 "nbformat_minor": 2
}
